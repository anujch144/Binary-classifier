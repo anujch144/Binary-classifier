{
  "nbformat": 4,
  "nbformat_minor": 0,
  "metadata": {
    "colab": {
      "name": "ErrorQuestion.ipynb",
      "provenance": [],
      "collapsed_sections": [],
      "authorship_tag": "ABX9TyOIbJRDt6HitX674YgMQYBe",
      "include_colab_link": true
    },
    "kernelspec": {
      "name": "python3",
      "display_name": "Python 3"
    },
    "language_info": {
      "name": "python"
    }
  },
  "cells": [
    {
      "cell_type": "markdown",
      "metadata": {
        "id": "view-in-github",
        "colab_type": "text"
      },
      "source": [
        "<a href=\"https://colab.research.google.com/github/anujch144/Binary-classifier/blob/master/ErrorQuestion.ipynb\" target=\"_parent\"><img src=\"https://colab.research.google.com/assets/colab-badge.svg\" alt=\"Open In Colab\"/></a>"
      ]
    },
    {
      "cell_type": "code",
      "source": [
        "import pandas as pd\n",
        "import numpy as np\n",
        "from scipy.stats import chi2\n",
        "from matplotlib import patches\n",
        "import matplotlib.pyplot as plt"
      ],
      "metadata": {
        "id": "eFnkJG_Hct4D"
      },
      "execution_count": 1,
      "outputs": []
    },
    {
      "cell_type": "code",
      "execution_count": 2,
      "metadata": {
        "id": "6eI-WHz9cjan"
      },
      "outputs": [],
      "source": [
        "df= pd.read_csv(\"/content/sample_data/QuestionsWithPossibleErrors - Sheet1.csv\")"
      ]
    },
    {
      "cell_type": "code",
      "source": [
        "df.head()"
      ],
      "metadata": {
        "colab": {
          "base_uri": "https://localhost:8080/",
          "height": 270
        },
        "id": "a3ij3erTfSnc",
        "outputId": "5526ef22-baff-487c-edda-358e8511b619"
      },
      "execution_count": 3,
      "outputs": [
        {
          "output_type": "execute_result",
          "data": {
            "text/plain": [
              "   QuestionId  CourseId  ClassId  SubjectId  CourseChapterId  QuestionLevelId  \\\n",
              "0         554         1       10          1               67                2   \n",
              "1         572         1       10          1               69                1   \n",
              "2         586         1        9          1                6                2   \n",
              "3         597         1        9          3               45                2   \n",
              "4         622         1       10          3              103                2   \n",
              "\n",
              "   QuestionTypeId  IsSuspended  Viewed  Attempted  Correct  TimeTaken  \\\n",
              "0               1            0      26         22        9       3692   \n",
              "1               1            0      59         48       28       7056   \n",
              "2               1            0      27         21        8       2954   \n",
              "3               1            0      26         26       14       2398   \n",
              "4               1            0     171        170      136      21649   \n",
              "\n",
              "   Accuracy   Speed  Velocity  \n",
              "0    1.5054  0.1724    1.6779  \n",
              "1    1.7920  0.1514    1.9434  \n",
              "2    1.4637  0.2105    1.6742  \n",
              "3    1.7134  0.2529    1.9662  \n",
              "4    2.2255  0.1959    2.4215  "
            ],
            "text/html": [
              "\n",
              "  <div id=\"df-c93e2cf4-c419-42fa-a849-b27c99900703\">\n",
              "    <div class=\"colab-df-container\">\n",
              "      <div>\n",
              "<style scoped>\n",
              "    .dataframe tbody tr th:only-of-type {\n",
              "        vertical-align: middle;\n",
              "    }\n",
              "\n",
              "    .dataframe tbody tr th {\n",
              "        vertical-align: top;\n",
              "    }\n",
              "\n",
              "    .dataframe thead th {\n",
              "        text-align: right;\n",
              "    }\n",
              "</style>\n",
              "<table border=\"1\" class=\"dataframe\">\n",
              "  <thead>\n",
              "    <tr style=\"text-align: right;\">\n",
              "      <th></th>\n",
              "      <th>QuestionId</th>\n",
              "      <th>CourseId</th>\n",
              "      <th>ClassId</th>\n",
              "      <th>SubjectId</th>\n",
              "      <th>CourseChapterId</th>\n",
              "      <th>QuestionLevelId</th>\n",
              "      <th>QuestionTypeId</th>\n",
              "      <th>IsSuspended</th>\n",
              "      <th>Viewed</th>\n",
              "      <th>Attempted</th>\n",
              "      <th>Correct</th>\n",
              "      <th>TimeTaken</th>\n",
              "      <th>Accuracy</th>\n",
              "      <th>Speed</th>\n",
              "      <th>Velocity</th>\n",
              "    </tr>\n",
              "  </thead>\n",
              "  <tbody>\n",
              "    <tr>\n",
              "      <th>0</th>\n",
              "      <td>554</td>\n",
              "      <td>1</td>\n",
              "      <td>10</td>\n",
              "      <td>1</td>\n",
              "      <td>67</td>\n",
              "      <td>2</td>\n",
              "      <td>1</td>\n",
              "      <td>0</td>\n",
              "      <td>26</td>\n",
              "      <td>22</td>\n",
              "      <td>9</td>\n",
              "      <td>3692</td>\n",
              "      <td>1.5054</td>\n",
              "      <td>0.1724</td>\n",
              "      <td>1.6779</td>\n",
              "    </tr>\n",
              "    <tr>\n",
              "      <th>1</th>\n",
              "      <td>572</td>\n",
              "      <td>1</td>\n",
              "      <td>10</td>\n",
              "      <td>1</td>\n",
              "      <td>69</td>\n",
              "      <td>1</td>\n",
              "      <td>1</td>\n",
              "      <td>0</td>\n",
              "      <td>59</td>\n",
              "      <td>48</td>\n",
              "      <td>28</td>\n",
              "      <td>7056</td>\n",
              "      <td>1.7920</td>\n",
              "      <td>0.1514</td>\n",
              "      <td>1.9434</td>\n",
              "    </tr>\n",
              "    <tr>\n",
              "      <th>2</th>\n",
              "      <td>586</td>\n",
              "      <td>1</td>\n",
              "      <td>9</td>\n",
              "      <td>1</td>\n",
              "      <td>6</td>\n",
              "      <td>2</td>\n",
              "      <td>1</td>\n",
              "      <td>0</td>\n",
              "      <td>27</td>\n",
              "      <td>21</td>\n",
              "      <td>8</td>\n",
              "      <td>2954</td>\n",
              "      <td>1.4637</td>\n",
              "      <td>0.2105</td>\n",
              "      <td>1.6742</td>\n",
              "    </tr>\n",
              "    <tr>\n",
              "      <th>3</th>\n",
              "      <td>597</td>\n",
              "      <td>1</td>\n",
              "      <td>9</td>\n",
              "      <td>3</td>\n",
              "      <td>45</td>\n",
              "      <td>2</td>\n",
              "      <td>1</td>\n",
              "      <td>0</td>\n",
              "      <td>26</td>\n",
              "      <td>26</td>\n",
              "      <td>14</td>\n",
              "      <td>2398</td>\n",
              "      <td>1.7134</td>\n",
              "      <td>0.2529</td>\n",
              "      <td>1.9662</td>\n",
              "    </tr>\n",
              "    <tr>\n",
              "      <th>4</th>\n",
              "      <td>622</td>\n",
              "      <td>1</td>\n",
              "      <td>10</td>\n",
              "      <td>3</td>\n",
              "      <td>103</td>\n",
              "      <td>2</td>\n",
              "      <td>1</td>\n",
              "      <td>0</td>\n",
              "      <td>171</td>\n",
              "      <td>170</td>\n",
              "      <td>136</td>\n",
              "      <td>21649</td>\n",
              "      <td>2.2255</td>\n",
              "      <td>0.1959</td>\n",
              "      <td>2.4215</td>\n",
              "    </tr>\n",
              "  </tbody>\n",
              "</table>\n",
              "</div>\n",
              "      <button class=\"colab-df-convert\" onclick=\"convertToInteractive('df-c93e2cf4-c419-42fa-a849-b27c99900703')\"\n",
              "              title=\"Convert this dataframe to an interactive table.\"\n",
              "              style=\"display:none;\">\n",
              "        \n",
              "  <svg xmlns=\"http://www.w3.org/2000/svg\" height=\"24px\"viewBox=\"0 0 24 24\"\n",
              "       width=\"24px\">\n",
              "    <path d=\"M0 0h24v24H0V0z\" fill=\"none\"/>\n",
              "    <path d=\"M18.56 5.44l.94 2.06.94-2.06 2.06-.94-2.06-.94-.94-2.06-.94 2.06-2.06.94zm-11 1L8.5 8.5l.94-2.06 2.06-.94-2.06-.94L8.5 2.5l-.94 2.06-2.06.94zm10 10l.94 2.06.94-2.06 2.06-.94-2.06-.94-.94-2.06-.94 2.06-2.06.94z\"/><path d=\"M17.41 7.96l-1.37-1.37c-.4-.4-.92-.59-1.43-.59-.52 0-1.04.2-1.43.59L10.3 9.45l-7.72 7.72c-.78.78-.78 2.05 0 2.83L4 21.41c.39.39.9.59 1.41.59.51 0 1.02-.2 1.41-.59l7.78-7.78 2.81-2.81c.8-.78.8-2.07 0-2.86zM5.41 20L4 18.59l7.72-7.72 1.47 1.35L5.41 20z\"/>\n",
              "  </svg>\n",
              "      </button>\n",
              "      \n",
              "  <style>\n",
              "    .colab-df-container {\n",
              "      display:flex;\n",
              "      flex-wrap:wrap;\n",
              "      gap: 12px;\n",
              "    }\n",
              "\n",
              "    .colab-df-convert {\n",
              "      background-color: #E8F0FE;\n",
              "      border: none;\n",
              "      border-radius: 50%;\n",
              "      cursor: pointer;\n",
              "      display: none;\n",
              "      fill: #1967D2;\n",
              "      height: 32px;\n",
              "      padding: 0 0 0 0;\n",
              "      width: 32px;\n",
              "    }\n",
              "\n",
              "    .colab-df-convert:hover {\n",
              "      background-color: #E2EBFA;\n",
              "      box-shadow: 0px 1px 2px rgba(60, 64, 67, 0.3), 0px 1px 3px 1px rgba(60, 64, 67, 0.15);\n",
              "      fill: #174EA6;\n",
              "    }\n",
              "\n",
              "    [theme=dark] .colab-df-convert {\n",
              "      background-color: #3B4455;\n",
              "      fill: #D2E3FC;\n",
              "    }\n",
              "\n",
              "    [theme=dark] .colab-df-convert:hover {\n",
              "      background-color: #434B5C;\n",
              "      box-shadow: 0px 1px 3px 1px rgba(0, 0, 0, 0.15);\n",
              "      filter: drop-shadow(0px 1px 2px rgba(0, 0, 0, 0.3));\n",
              "      fill: #FFFFFF;\n",
              "    }\n",
              "  </style>\n",
              "\n",
              "      <script>\n",
              "        const buttonEl =\n",
              "          document.querySelector('#df-c93e2cf4-c419-42fa-a849-b27c99900703 button.colab-df-convert');\n",
              "        buttonEl.style.display =\n",
              "          google.colab.kernel.accessAllowed ? 'block' : 'none';\n",
              "\n",
              "        async function convertToInteractive(key) {\n",
              "          const element = document.querySelector('#df-c93e2cf4-c419-42fa-a849-b27c99900703');\n",
              "          const dataTable =\n",
              "            await google.colab.kernel.invokeFunction('convertToInteractive',\n",
              "                                                     [key], {});\n",
              "          if (!dataTable) return;\n",
              "\n",
              "          const docLinkHtml = 'Like what you see? Visit the ' +\n",
              "            '<a target=\"_blank\" href=https://colab.research.google.com/notebooks/data_table.ipynb>data table notebook</a>'\n",
              "            + ' to learn more about interactive tables.';\n",
              "          element.innerHTML = '';\n",
              "          dataTable['output_type'] = 'display_data';\n",
              "          await google.colab.output.renderOutput(dataTable, element);\n",
              "          const docLink = document.createElement('div');\n",
              "          docLink.innerHTML = docLinkHtml;\n",
              "          element.appendChild(docLink);\n",
              "        }\n",
              "      </script>\n",
              "    </div>\n",
              "  </div>\n",
              "  "
            ]
          },
          "metadata": {},
          "execution_count": 3
        }
      ]
    },
    {
      "cell_type": "code",
      "source": [
        "NoOfCourses = df['CourseId'].value_counts().index.tolist()\n",
        "df['result'] = 1"
      ],
      "metadata": {
        "id": "UexFZKfagV6z"
      },
      "execution_count": 32,
      "outputs": []
    },
    {
      "cell_type": "code",
      "source": [
        "from pandas.core.indexes.base import default_index\n",
        "for CourseId in NoOfCourses:\n",
        "  df_course = df.loc[df['CourseId'] == CourseId]\n",
        "  NoOfQuestionLevel = df_course['QuestionLevelId'].value_counts().index.tolist()\n",
        "  for i in NoOfQuestionLevel:\n",
        "    df_course_questionlevel  = df_course.loc[df_course['QuestionLevelId']==i]\n",
        "    #Creating new DataFrame for further processing\n",
        "    df_course_questionlevel_ = df_course_questionlevel[['Accuracy','Speed','Velocity']]\n",
        "\n",
        "    #Converting into numpy\n",
        "    df_course_questionlevel_ = df_course_questionlevel_.to_numpy()\n",
        "    \n",
        "    # Covariance matrix\n",
        "    covariance  = np.cov(df_course_questionlevel_ , rowvar=False)\n",
        "\n",
        "    # Covariance matrix power of -1\n",
        "    covariance_pm1 = np.linalg.matrix_power(covariance, -1)\n",
        "\n",
        "    # Center point\n",
        "    centerpoint = np.mean(df_course_questionlevel_ , axis=0)\n",
        "\n",
        "    # Distances between center point and \n",
        "    distances = []\n",
        "    for i, val in enumerate(df_course_questionlevel_):\n",
        "        p1 = val\n",
        "        p2 = centerpoint\n",
        "        distance = (p1-p2).T.dot(covariance_pm1).dot(p1-p2)\n",
        "        distances.append(distance)\n",
        "\n",
        "    distances = np.array(distances)\n",
        "\n",
        "    # Cutoff (threshold) value from Chi-Sqaure Distribution for detecting outlies \n",
        "    cutoff = chi2.ppf(0.99, df_course_questionlevel_.shape[1])\n",
        "\n",
        "    # Index of outliers\n",
        "    outlierIndexes = np.where(distances > cutoff )\n",
        "\n",
        "    # Getting QuestionId from the Index \n",
        "    df_Index = df_course_questionlevel.iloc[outlierIndexes]['QuestionId'].index.tolist()\n",
        "    \n",
        "    #Update result column in dataframe\n",
        "    df.iloc[df_Index]=df.iloc[df_Index].assign(result = 0)"
      ],
      "metadata": {
        "id": "0XXO41qCi--G"
      },
      "execution_count": 33,
      "outputs": []
    },
    {
      "cell_type": "code",
      "source": [
        "df['result'].value_counts()"
      ],
      "metadata": {
        "id": "wNtHP547hi8R",
        "colab": {
          "base_uri": "https://localhost:8080/"
        },
        "outputId": "c82f5453-1e98-4ea7-d9bf-ccad948ab956"
      },
      "execution_count": 39,
      "outputs": [
        {
          "output_type": "execute_result",
          "data": {
            "text/plain": [
              "1    87858\n",
              "0      872\n",
              "Name: result, dtype: int64"
            ]
          },
          "metadata": {},
          "execution_count": 39
        }
      ]
    },
    {
      "cell_type": "code",
      "source": [
        "# Enter questionId to predict the result\n",
        "questionId = int(input(\"Enter the questionId to predict: \"))\n",
        "if df.loc[df['QuestionId']==questionId]['result'].iloc[0]==1:\n",
        "  print(\"No error in Question\")\n",
        "else:\n",
        "  print(\"There is error in Question\")  "
      ],
      "metadata": {
        "id": "8YT1cmeuGEj3",
        "colab": {
          "base_uri": "https://localhost:8080/"
        },
        "outputId": "2c0a3d6f-33a8-4577-aff9-5ff28607c79c"
      },
      "execution_count": 38,
      "outputs": [
        {
          "output_type": "stream",
          "name": "stdout",
          "text": [
            "Enter the questionId to predict: 3755\n",
            "There is error in Question\n"
          ]
        }
      ]
    },
    {
      "cell_type": "code",
      "source": [
        ""
      ],
      "metadata": {
        "id": "gCw3bXz46MC_"
      },
      "execution_count": null,
      "outputs": []
    }
  ]
}